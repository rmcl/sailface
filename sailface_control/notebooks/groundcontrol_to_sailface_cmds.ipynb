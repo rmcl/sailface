{
 "cells": [
  {
   "cell_type": "code",
   "execution_count": 13,
   "metadata": {},
   "outputs": [],
   "source": [
    "import json\n",
    "\n",
    "GROUNDCONTROL_MISSION_PATH = '/Users/rmcl/Documents/QGroundControl/Missions'\n",
    "\n",
    "PLAN_NAME = 'Hendrys_square_v1'\n",
    "with open(f'{GROUNDCONTROL_MISSION_PATH}/{PLAN_NAME}.plan', 'r') as fp:\n",
    "    mission = json.load(fp)"
   ]
  },
  {
   "cell_type": "code",
   "execution_count": 19,
   "metadata": {},
   "outputs": [
    {
     "name": "stdout",
     "output_type": "stream",
     "text": [
      "34.40215626 -119.7474088 0\n",
      "34.40232498935683 -119.75064885682092 4.572\n",
      "34.40199974801396 -119.7506823927486 4.572\n",
      "34.40182461 -119.74738956 15.24\n",
      "34.40212055 -119.74732213 4.572\n",
      "0 0 0\n"
     ]
    }
   ],
   "source": [
    "for step in mission['mission']['items']:\n",
    "    _,accept_radius_meters,_,_,latitude,longitude,_ = step['params']\n",
    "    #print(step)\n",
    "    print(latitude,longitude, accept_radius_meters)"
   ]
  },
  {
   "cell_type": "code",
   "execution_count": null,
   "metadata": {},
   "outputs": [],
   "source": []
  }
 ],
 "metadata": {
  "kernelspec": {
   "display_name": "Python 3.8.9 64-bit",
   "language": "python",
   "name": "python3"
  },
  "language_info": {
   "codemirror_mode": {
    "name": "ipython",
    "version": 3
   },
   "file_extension": ".py",
   "mimetype": "text/x-python",
   "name": "python",
   "nbconvert_exporter": "python",
   "pygments_lexer": "ipython3",
   "version": "3.8.9"
  },
  "orig_nbformat": 4,
  "vscode": {
   "interpreter": {
    "hash": "31f2aee4e71d21fbe5cf8b01ff0e069b9275f58929596ceb00d14d90e3e16cd6"
   }
  }
 },
 "nbformat": 4,
 "nbformat_minor": 2
}
