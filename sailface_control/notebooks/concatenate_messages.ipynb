{
 "cells": [
  {
   "cell_type": "code",
   "execution_count": 1,
   "metadata": {},
   "outputs": [],
   "source": [
    "json_data = {\n",
    "            'battery_current': 1280,\n",
    "            'battery_voltage': 98,\n",
    "            'iridium_latitude': '34.4301',\n",
    "            'iridium_longitude': '-119.3506',\n",
    "            'latitude': 34414836,\n",
    "            'longitude': -119740664,\n",
    "            'momsn': '4',\n",
    "            'prop_speed': 0,\n",
    "            'transmit_time': '2022-08-04T18:00:50',\n",
    "            'waypoint_latitude': -1,\n",
    "            'waypoint_longitude': -1\n",
    "        }"
   ]
  },
  {
   "cell_type": "code",
   "execution_count": 11,
   "metadata": {},
   "outputs": [],
   "source": [
    "from datetime import datetime\n",
    "\n",
    "transmit_time = datetime.fromisoformat(json_data['transmit_time']).date()\n",
    "momsn = json_data['momsn']\n",
    "\n",
    "message_key = f'{transmit_time}--{momsn}'\n"
   ]
  },
  {
   "cell_type": "code",
   "execution_count": 12,
   "metadata": {},
   "outputs": [
    {
     "data": {
      "text/plain": [
       "'2022-08-04-4'"
      ]
     },
     "execution_count": 12,
     "metadata": {},
     "output_type": "execute_result"
    }
   ],
   "source": [
    "message_key"
   ]
  },
  {
   "cell_type": "code",
   "execution_count": null,
   "metadata": {},
   "outputs": [],
   "source": []
  }
 ],
 "metadata": {
  "kernelspec": {
   "display_name": "Python 3.8.9 64-bit",
   "language": "python",
   "name": "python3"
  },
  "language_info": {
   "codemirror_mode": {
    "name": "ipython",
    "version": 3
   },
   "file_extension": ".py",
   "mimetype": "text/x-python",
   "name": "python",
   "nbconvert_exporter": "python",
   "pygments_lexer": "ipython3",
   "version": "3.8.9"
  },
  "orig_nbformat": 4,
  "vscode": {
   "interpreter": {
    "hash": "31f2aee4e71d21fbe5cf8b01ff0e069b9275f58929596ceb00d14d90e3e16cd6"
   }
  }
 },
 "nbformat": 4,
 "nbformat_minor": 2
}
