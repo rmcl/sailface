{
 "cells": [
  {
   "cell_type": "code",
   "execution_count": 2,
   "metadata": {},
   "outputs": [
    {
     "name": "stdout",
     "output_type": "stream",
     "text": [
      "Defaulting to user installation because normal site-packages is not writeable\n",
      "Collecting simplekml\n",
      "  Downloading simplekml-1.3.6.tar.gz (52 kB)\n",
      "\u001b[2K     \u001b[90m━━━━━━━━━━━━━━━━━━━━━━━━━━━━━━━━━━━━━━━\u001b[0m \u001b[32m53.0/53.0 kB\u001b[0m \u001b[31m483.1 kB/s\u001b[0m eta \u001b[36m0:00:00\u001b[0ma \u001b[36m0:00:01\u001b[0m\n",
      "\u001b[?25h  Preparing metadata (setup.py) ... \u001b[?25ldone\n",
      "\u001b[?25hBuilding wheels for collected packages: simplekml\n",
      "  Building wheel for simplekml (setup.py) ... \u001b[?25ldone\n",
      "\u001b[?25h  Created wheel for simplekml: filename=simplekml-1.3.6-py3-none-any.whl size=65859 sha256=b54f6f96c2af8e6892357679760e53b9d35fc165a88e85cf679f8b533c3ea1e7\n",
      "  Stored in directory: /Users/rmcl/Library/Caches/pip/wheels/61/7c/b1/a15afd1959498020ff45abc6e309b5c48975a5d741e60c5922\n",
      "Successfully built simplekml\n",
      "Installing collected packages: simplekml\n",
      "Successfully installed simplekml-1.3.6\n"
     ]
    }
   ],
   "source": [
    "!pip3 install simplekml"
   ]
  },
  {
   "cell_type": "code",
   "execution_count": 3,
   "metadata": {},
   "outputs": [],
   "source": [
    "import simplekml\n",
    "kml = simplekml.Kml()\n",
    "kml.newpoint(name=\"Kirstenbosch\", coords=[(18.432314,-33.988862)])  # lon, lat, optional height\n",
    "kml.save(\"botanicalgarden.kml\")"
   ]
  },
  {
   "cell_type": "code",
   "execution_count": null,
   "metadata": {},
   "outputs": [],
   "source": []
  }
 ],
 "metadata": {
  "kernelspec": {
   "display_name": "Python 3.8.9 64-bit",
   "language": "python",
   "name": "python3"
  },
  "language_info": {
   "codemirror_mode": {
    "name": "ipython",
    "version": 3
   },
   "file_extension": ".py",
   "mimetype": "text/x-python",
   "name": "python",
   "nbconvert_exporter": "python",
   "pygments_lexer": "ipython3",
   "version": "3.8.9"
  },
  "orig_nbformat": 4,
  "vscode": {
   "interpreter": {
    "hash": "31f2aee4e71d21fbe5cf8b01ff0e069b9275f58929596ceb00d14d90e3e16cd6"
   }
  }
 },
 "nbformat": 4,
 "nbformat_minor": 2
}
